{
 "cells": [
  {
   "cell_type": "markdown",
   "metadata": {},
   "source": [
    "## Make a Buckles Plot in Plotly"
   ]
  },
  {
   "cell_type": "code",
   "execution_count": null,
   "metadata": {},
   "outputs": [],
   "source": [
    "import plotly.express as px\n",
    "import pandas as pd\n",
    "import numpy as np"
   ]
  },
  {
   "cell_type": "markdown",
   "metadata": {},
   "source": [
    "### Linear Buckles Plot"
   ]
  },
  {
   "cell_type": "code",
   "execution_count": null,
   "metadata": {},
   "outputs": [],
   "source": [
    "phi = [0.3, 0.3, 0.3, 0.3, 0.3, 0.2, 0.2, 0.2, 0.2, 0.2, 0.2, 0.18, 0.18, 0.1, 0.1, 0.1, 0.1, 0.1, 0.08, 0.08, .06]\n",
    "Sw = [0.14, 0.2, 0.24, 0.28, 1, 0.2, 0.3, 0.37, 0.4, 0.5, 1, 0.28, 1, 0.4, 0.6, 0.7, 0.8, 1, 0.5, 1, 1]\n",
    "\n",
    "df = pd.DataFrame({'phi': phi, 'Sw': Sw})"
   ]
  },
  {
   "cell_type": "code",
   "execution_count": null,
   "metadata": {},
   "outputs": [],
   "source": [
    "fig=px.scatter(df, x=\"Sw\", y='phi')\n",
    "fig.show()"
   ]
  },
  {
   "cell_type": "markdown",
   "metadata": {},
   "source": [
    "Bulk Volume Water: $BVW = \\phi * S_w$\n",
    "\n",
    "BVWirr = 0.04"
   ]
  },
  {
   "cell_type": "code",
   "execution_count": null,
   "metadata": {},
   "outputs": [],
   "source": [
    "sw_test = np.linspace(0.001, 1, 100)"
   ]
  },
  {
   "cell_type": "code",
   "execution_count": null,
   "metadata": {},
   "outputs": [],
   "source": [
    "phi_04 = 0.04 / sw_test\n",
    "phi_15 = 0.15 / sw_test\n",
    "phi_1 = 0.1 / sw_test\n",
    "phi_07 = 0.07 / sw_test\n",
    "phi_05 = 0.05 / sw_test"
   ]
  },
  {
   "cell_type": "code",
   "execution_count": null,
   "metadata": {},
   "outputs": [],
   "source": [
    "import plotly.graph_objects as go\n",
    "\n",
    "fig = go.Figure()\n",
    "fig.add_trace(go.Scatter(x=Sw, y=phi,\n",
    "                         mode='markers',\n",
    "                         name='Data'))\n",
    "fig.add_trace(go.Scatter(x=sw_test, y=phi_04, name='BVWirr=0.4'))\n",
    "fig.add_trace(go.Scatter(x=sw_test, y=phi_15, name='BVWirr=0.15'))\n",
    "fig.add_trace(go.Scatter(x=sw_test, y=phi_1, name='BVWirr=0.1'))\n",
    "fig.add_trace(go.Scatter(x=sw_test, y=phi_07, name='BVWirr=0.07'))\n",
    "fig.add_trace(go.Scatter(x=sw_test, y=phi_05, name='BVWirr=0.05'))\n",
    "\n",
    "fig.update_yaxes(\n",
    "    scaleanchor = \"x\",\n",
    "    scaleratio = 1,\n",
    "  )\n",
    "fig.update_xaxes(range=[0, 1],\n",
    "                 constrain=\"domain\")\n",
    "fig.update_yaxes(range=[0, 1])\n"
   ]
  },
  {
   "cell_type": "markdown",
   "metadata": {},
   "source": [
    "## Log Buckles Plot"
   ]
  },
  {
   "cell_type": "code",
   "execution_count": null,
   "metadata": {},
   "outputs": [],
   "source": [
    "import plotly.graph_objects as go\n",
    "\n",
    "fig = go.Figure()\n",
    "fig.add_trace(go.Scatter(x=Sw, y=phi,\n",
    "                         mode='markers',\n",
    "                         name='Data'))\n",
    "fig.add_trace(go.Scatter(x=sw_test, y=phi_04, name='BVWirr=0.4'))\n",
    "fig.add_trace(go.Scatter(x=sw_test, y=phi_15, name='BVWirr=0.15'))\n",
    "fig.add_trace(go.Scatter(x=sw_test, y=phi_1, name='BVWirr=0.1'))\n",
    "fig.add_trace(go.Scatter(x=sw_test, y=phi_07, name='BVWirr=0.07'))\n",
    "fig.add_trace(go.Scatter(x=sw_test, y=phi_05, name='BVWirr=0.05'))\n",
    "\n",
    "fig.update_yaxes(\n",
    "    scaleanchor = \"x\",\n",
    "    scaleratio = 1,\n",
    "  )\n",
    "fig.update_xaxes(range=[np.log10(0.01), 0],\n",
    "                 constrain=\"domain\",\n",
    "                 type='log')\n",
    "\n",
    "fig.update_yaxes(range=[np.log10(0.01), 0],\n",
    "                 type='log')"
   ]
  },
  {
   "cell_type": "code",
   "execution_count": null,
   "metadata": {},
   "outputs": [],
   "source": [
    "import plotly.express as px\n",
    "from jupyter_dash import JupyterDash\n",
    "import dash_core_components as dcc\n",
    "import dash_html_components as html\n",
    "from dash.dependencies import Input, Output\n",
    "# Load Data\n",
    "\n",
    "\n",
    "# Build App\n",
    "app = JupyterDash(__name__)\n",
    "\n",
    "app.layout = html.Div([\n",
    "    html.H1(\"Fossils-JupyterDash\"),\n",
    "    dcc.Graph(id='graph'),\n",
    "    html.Label([\n",
    "        \"Projection\",\n",
    "        dcc.Dropdown(\n",
    "            id='projection-dropdown', clearable=False,\n",
    "            value='umap', options=[\n",
    "                {'label': c, 'value': c}\n",
    "                for c in ['umap', 'tsne', 'pca']\n",
    "            ])\n",
    "    ]),\n",
    "    \n",
    "])\n",
    "# Define callback to update graph\n",
    "@app.callback(\n",
    "    Output('graph', 'figure'),\n",
    "    [Input(\"projection-dropdown\", \"value\")]\n",
    ")\n",
    "def update_figure(proj_name):\n",
    "\n",
    "    data_x = projection[proj_name][:, 0]\n",
    "    data_y = projection[proj_name][:, 1]\n",
    "    \n",
    "    return px.scatter(x=data_x, \n",
    "                      y=data_y, \n",
    "                      color=y_train, \n",
    "                      render_mode=\"webgl\", \n",
    "                      title=\"Projected fossil features\",\n",
    "                      width=800, height=600)\n",
    "\n",
    "# Run app and display result inline in the notebook\n",
    "\n",
    "#app.run_server(mode='external')\n",
    "#app.run_server(mode='inline')\n",
    "app.run_server(debug='False',port=8080,host='0.0.0.0')"
   ]
  }
 ],
 "metadata": {
  "kernelspec": {
   "display_name": "Python 3",
   "language": "python",
   "name": "python3"
  },
  "language_info": {
   "codemirror_mode": {
    "name": "ipython",
    "version": 3
   },
   "file_extension": ".py",
   "mimetype": "text/x-python",
   "name": "python",
   "nbconvert_exporter": "python",
   "pygments_lexer": "ipython3",
   "version": "3.8.5"
  }
 },
 "nbformat": 4,
 "nbformat_minor": 2
}
