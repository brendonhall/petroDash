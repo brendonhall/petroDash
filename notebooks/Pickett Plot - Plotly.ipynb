{
 "cells": [
  {
   "cell_type": "markdown",
   "metadata": {},
   "source": [
    "## Make a Pickett Plot in Plotly"
   ]
  },
  {
   "cell_type": "code",
   "execution_count": null,
   "metadata": {},
   "outputs": [],
   "source": [
    "import plotly.express as px\n",
    "import pandas as pd\n",
    "import numpy as np"
   ]
  },
  {
   "cell_type": "markdown",
   "metadata": {},
   "source": [
    "A Pickett plot is a graphical solution to Archie's equation.  Archie developed his famous equation to calculate, from well log parameters, the water saturation (Sw) of the uninvaded zone in a formation next to a borehole. The Archie equation can be expressed as follows:\n",
    "\n",
    "$S_w^n = \\frac{R_w}{\\left(\\Phi^m R_t\\right)}$\n",
    "\n",
    "\n",
    "- Sw = water saturation of the uninvaded zone\n",
    "- n = saturation exponent, which varies from 1.8 to 4.0 but normally is 2.0\n",
    "- Rw = formation water resistivity at formation temperature\n",
    "- Φ = porosity\n",
    "- m = cementation exponent, which varies from 1.7 to 3.0 but normally is 2.0\n",
    "- Rt = true resistivity of the formation, corrected for invasion, borehole, thin bed, and other effects"
   ]
  },
  {
   "cell_type": "code",
   "execution_count": null,
   "metadata": {},
   "outputs": [],
   "source": [
    "df = pd.read_csv('../data/ideal_input_data.csv', skiprows=[1])"
   ]
  },
  {
   "cell_type": "code",
   "execution_count": null,
   "metadata": {},
   "outputs": [],
   "source": [
    "df.describe()"
   ]
  },
  {
   "cell_type": "code",
   "execution_count": null,
   "metadata": {},
   "outputs": [],
   "source": [
    "phi = [0.3, 0.3, 0.3, 0.3, 0.3, 0.2, 0.2, 0.2, 0.2, 0.2, 0.2, 0.18, 0.18, 0.1, 0.1, 0.1, 0.1, 0.1, 0.08, 0.08, .06]\n",
    "Sw = [0.14, 0.2, 0.24, 0.28, 1, 0.2, 0.3, 0.37, 0.4, 0.5, 1, 0.28, 1, 0.4, 0.6, 0.7, 0.8, 1, 0.5, 1, 1]\n",
    "R = [1.4, 9, 15, 18,22, 48, 3, 10, 18, 20, 28, 53, 5.5, 60, 13, 20, 25, 32, 64, 20, 30]\n",
    "\n",
    "df = pd.DataFrame({'phi': phi, 'Sw': Sw, 'R': R})"
   ]
  },
  {
   "cell_type": "code",
   "execution_count": null,
   "metadata": {},
   "outputs": [],
   "source": [
    "fig=px.scatter(df, x=\"RT\", y='PHIX', log_x=True, log_y=True)\n",
    "fig.show()"
   ]
  },
  {
   "cell_type": "markdown",
   "metadata": {},
   "source": [
    "Bulk Volume Water: $BVW = \\phi * S_w$\n",
    "\n",
    "BVWirr = 0.04"
   ]
  },
  {
   "cell_type": "code",
   "execution_count": null,
   "metadata": {},
   "outputs": [],
   "source": [
    "R_test = np.linspace(0.001, 1000, 100)\n",
    "Rw = 0.1 #this can be a parameter"
   ]
  },
  {
   "cell_type": "markdown",
   "metadata": {},
   "source": [
    "Calculate the constant Sw lines."
   ]
  },
  {
   "cell_type": "code",
   "execution_count": null,
   "metadata": {},
   "outputs": [],
   "source": [
    "m = 5\n",
    "b = 1./m * np.log(Rw)\n",
    "phi_sw_exp = -(1./m)*np.log(R_test) + b\n",
    "phi_sw = 10**phi_sw_exp\n",
    "\n",
    "phi_int_exp = b\n",
    "phi_int = 10**phi_int_exp\n",
    "\n",
    "b_2 = phi_int_exp + (1./m)*np.log(2)\n",
    "phi_2_exp = -(1./m)*np.log(R_test) + b_2\n",
    "phi_2 = 10**phi_2_exp\n",
    "\n",
    "b_4 = phi_int_exp + (1./m)*np.log(4)\n",
    "phi_4_exp = -(1./m)*np.log(R_test) + b_4\n",
    "phi_4 = 10**phi_4_exp\n",
    "\n",
    "b_6 = phi_int_exp + (1./m)*np.log(6)\n",
    "phi_6_exp = -(1./m)*np.log(R_test) + b_6\n",
    "phi_6 = 10**phi_6_exp\n",
    "\n",
    "b_8 = phi_int_exp + (1./m)*np.log(8)\n",
    "phi_8_exp = -(1./m)*np.log(R_test) + b_8\n",
    "phi_8 = 10**phi_8_exp\n",
    "\n",
    "b_14 = phi_int_exp + (1./m)*np.log(14)\n",
    "phi_14_exp = -(1./m)*np.log(R_test) + b_14\n",
    "phi_14 = 10**phi_14_exp\n",
    "\n",
    "b_20 = phi_int_exp + (1./m)*np.log(20)\n",
    "phi_20_exp = -(1./m)*np.log(R_test) + b_20\n",
    "phi_20 = 10**phi_20_exp"
   ]
  },
  {
   "cell_type": "markdown",
   "metadata": {},
   "source": [
    "## Saturation Lines"
   ]
  },
  {
   "cell_type": "code",
   "execution_count": null,
   "metadata": {},
   "outputs": [],
   "source": [
    "import plotly.graph_objects as go\n",
    "\n",
    "fig = go.Figure()\n",
    "fig.add_trace(go.Scatter(x=df['RT'], y=df['PHIX'],\n",
    "                         mode='markers',\n",
    "                         name='Data'))\n",
    "fig.add_trace(go.Scatter(x=[Rw], y=[1],\n",
    "                         name='Rw',\n",
    "                         mode='markers'))\n",
    "fig.add_trace(go.Scatter(x=R_test, y=phi_sw, name='Sw = 100%'))\n",
    "fig.add_trace(go.Scatter(x=[1], y=[phi_int],\n",
    "                         name='phi@R=1',\n",
    "                         mode='markers'))\n",
    "fig.add_trace(go.Scatter(x=R_test, y=phi_2, name='Sw = 71%'))\n",
    "fig.add_trace(go.Scatter(x=R_test, y=phi_4, name='Sw = 50%'))\n",
    "fig.add_trace(go.Scatter(x=R_test, y=phi_6, name='Sw = 41%'))\n",
    "fig.add_trace(go.Scatter(x=R_test, y=phi_8, name='Sw = 35%'))\n",
    "fig.add_trace(go.Scatter(x=R_test, y=phi_14, name='Sw = 27%'))\n",
    "fig.add_trace(go.Scatter(x=R_test, y=phi_20, name='Sw = 22%'))\n",
    "\n",
    "fig.update_yaxes(\n",
    "    scaleanchor = \"x\",\n",
    "    scaleratio = 1,\n",
    "  )\n",
    "fig.update_xaxes(range=[np.log10(0.01), 3],\n",
    "                 constrain=\"domain\",\n",
    "                 type='log',\n",
    "                 title='Resistivity')\n",
    "\n",
    "fig.update_yaxes(range=[np.log10(0.01), 0],\n",
    "                 constrain=\"domain\",\n",
    "                 type='log',\n",
    "                 title='$\\phi$')\n",
    "#fig.update_plot(title='Pickett Plot')"
   ]
  },
  {
   "cell_type": "code",
   "execution_count": null,
   "metadata": {},
   "outputs": [],
   "source": [
    "import plotly.express as px\n",
    "from jupyter_dash import JupyterDash\n",
    "import dash_core_components as dcc\n",
    "import dash_html_components as html\n",
    "from dash.dependencies import Input, Output\n",
    "# Load Data\n",
    "\n",
    "\n",
    "# Build App\n",
    "app = JupyterDash(__name__)\n",
    "\n",
    "app.layout = html.Div([\n",
    "    html.H1(\"petroDash - Pickett\"),\n",
    "    dcc.Graph(id='graph'),\n",
    "    html.Label([\n",
    "        \"m\",\n",
    "        dcc.Slider(\n",
    "            id='m-slider',\n",
    "            min=1,\n",
    "            max=7,\n",
    "            step=0.1,\n",
    "            value=5,\n",
    "            tooltip={'always_visible':True},\n",
    "            marks={'1': '1',\n",
    "                   '7': '7'}\n",
    "        ),\n",
    "    ]),\n",
    "    html.Label([\n",
    "        \"Rw\",\n",
    "        dcc.Slider(\n",
    "            id='Rw-slider',\n",
    "            min=0.01,\n",
    "            max=10,\n",
    "            step=0.01,\n",
    "            value=.1,\n",
    "            tooltip={'always_visible':True},\n",
    "            marks={'0.01': '0.01',\n",
    "                   '0.1': '0.1',\n",
    "                   '1': '1.0',\n",
    "                   '10': '10'}\n",
    "        ),\n",
    "    ]),\n",
    "    \n",
    "])\n",
    "# Define callback to update graph\n",
    "@app.callback(\n",
    "    Output('graph', 'figure'),\n",
    "    [Input(\"Rw-slider\", \"value\"),\n",
    "     Input(\"m-slider\", \"value\")]\n",
    ")\n",
    "def update_figure(Rw, m):\n",
    "    \n",
    "    R_test = np.linspace(0.001, 1000, 100)\n",
    "    \n",
    "    #m = 5\n",
    "    b = 1./m * np.log(Rw)\n",
    "    phi_sw_exp = -(1./m)*np.log(R_test) + b\n",
    "    phi_sw = 10**phi_sw_exp\n",
    "    \n",
    "    fig = go.Figure()\n",
    "    fig.add_trace(go.Scatter(x=df['RT'], y=df['PHIX'],\n",
    "                             mode='markers',\n",
    "                             name='Data'))\n",
    "    fig.add_trace(go.Scatter(x=R_test, y=phi_sw, name='Sw = 100%'))\n",
    "    \n",
    "    \n",
    "    fig.update_yaxes(\n",
    "        scaleanchor = \"x\",\n",
    "        scaleratio = 1,\n",
    "      )\n",
    "    fig.update_xaxes(range=[np.log10(0.01), 3],\n",
    "                     constrain=\"domain\",\n",
    "                     type='log',\n",
    "                     title='Resistivity')\n",
    "\n",
    "    fig.update_yaxes(range=[np.log10(0.01), 0],\n",
    "                     constrain=\"domain\",\n",
    "                     type='log',\n",
    "                     title='$/phi$')\n",
    "    \n",
    "    return fig\n",
    "\n",
    "# Run app and display result inline in the notebook\n",
    "\n",
    "#app.run_server(mode='external')\n",
    "app.run_server(mode='inline')\n",
    "#app.run_server(debug='False',port=8080,host='0.0.0.0')"
   ]
  },
  {
   "cell_type": "code",
   "execution_count": null,
   "metadata": {},
   "outputs": [],
   "source": []
  }
 ],
 "metadata": {
  "kernelspec": {
   "display_name": "geoml",
   "language": "python",
   "name": "geoml"
  },
  "language_info": {
   "codemirror_mode": {
    "name": "ipython",
    "version": 3
   },
   "file_extension": ".py",
   "mimetype": "text/x-python",
   "name": "python",
   "nbconvert_exporter": "python",
   "pygments_lexer": "ipython3",
   "version": "3.6.9"
  }
 },
 "nbformat": 4,
 "nbformat_minor": 2
}
